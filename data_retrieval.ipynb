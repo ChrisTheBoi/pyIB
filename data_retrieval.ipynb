{
 "cells": [
  {
   "cell_type": "code",
   "execution_count": 2,
   "id": "26c11c49",
   "metadata": {},
   "outputs": [],
   "source": [
    "from bs4 import BeautifulSoup\n",
    "import urllib.request as url_r\n",
    "from user_agent import generate_user_agent\n",
    "import re\n",
    "from sec_edgar_api import EdgarClient\n",
    "\n",
    "random_ua = generate_user_agent()\n",
    "edgar = EdgarClient(user_agent=random_ua)"
   ]
  },
  {
   "cell_type": "code",
   "execution_count": 3,
   "id": "4a5f8c44",
   "metadata": {},
   "outputs": [],
   "source": [
    "def get_cik(ticker):\n",
    "    \"\"\"function to retrieve CIK of company\"\"\"\n",
    "    url = url_r.Request(f'https://sec.report/Ticker/{ticker.lower()}',\n",
    "                        headers={'User-Agent': f'{random_ua}'})\n",
    "    url = url_r.urlopen(url)\n",
    "\n",
    "    soup = BeautifulSoup(url, 'html.parser')\n",
    "    scan = soup.find('h2')\n",
    "\n",
    "    cik = re.findall(r'(\\d{10})', str(scan))\n",
    "    cik = cik.pop()\n",
    "\n",
    "    return cik\n",
    "\n",
    "def get_submissions_(ticker):\n",
    "    cik_num = get_cik(ticker)\n",
    "    request = edgar.get_submissions(cik=cik_num)\n",
    "    return request\n",
    "\n",
    "def get_company_concept_(ticker, tag, taxonomy='us-gaap'):\n",
    "    cik_num = get_cik(ticker)\n",
    "    request = edgar.get_company_concept(cik=cik_num, taxonomy=taxonomy, tag=tag)\n",
    "    return request\n",
    "\n",
    "def get_company_facts_(ticker):\n",
    "    cik_num = get_cik(ticker)\n",
    "    request = edgar.get_company_facts(cik=cik_num)\n",
    "    return request"
   ]
  },
  {
   "cell_type": "code",
   "execution_count": null,
   "id": "2fc27086",
   "metadata": {},
   "outputs": [],
   "source": []
  }
 ],
 "metadata": {
  "kernelspec": {
   "display_name": "Python 3 (ipykernel)",
   "language": "python",
   "name": "python3"
  },
  "language_info": {
   "codemirror_mode": {
    "name": "ipython",
    "version": 3
   },
   "file_extension": ".py",
   "mimetype": "text/x-python",
   "name": "python",
   "nbconvert_exporter": "python",
   "pygments_lexer": "ipython3",
   "version": "3.10.4"
  }
 },
 "nbformat": 4,
 "nbformat_minor": 5
}
